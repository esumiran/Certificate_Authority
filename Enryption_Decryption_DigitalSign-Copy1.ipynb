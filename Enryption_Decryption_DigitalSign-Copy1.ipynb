{
 "cells": [
  {
   "cell_type": "markdown",
   "id": "4090c21a-8c56-43a8-889b-317146357649",
   "metadata": {},
   "source": [
    "# Encryprtion/Decryption/Hashing\n",
    "\n",
    "### What is RSA?\n",
    "RSA is like having two special keys: one you can share with everyone (public key) and one that only you should have (private key). These keys are used to lock (encrypt) and unlock (decrypt) secret messages.\n",
    "\n",
    "- Public Key: This is like a padlock you give to anyone. People can use it to lock a message for you.\n",
    "- Private Key: This is like the key to the padlock. Only you have it, and you use it to unlock the messages sent to you.\n",
    "\n",
    "### 1. Key Generation (Creating the Keys)\n",
    "In the code, we're using a function called generate_keys() to make both keys:\n",
    "\n",
    "- Public key: Used to lock the message.\n",
    "- Private key: Used to unlock the message.\n",
    "\n",
    "*public_key, private_key = generate_keys()*\n",
    "\n",
    "After making the keys, the code converts them into a simple format (hexadecimal, which is like a simplified number format) so we can store or share them easily. That’s what serialize_private_key_to_hex() and serialize_public_key_to_hex() do.\n",
    "\n",
    "#### --> AFTER YOU GENERATE A RANDOM KEY PAIR, PLEASE KEEP IT SAFE, PUBLIC KEY MUST BE PUBLISHD IN CANVAS, PRIVATE KEY MUST BE KEPT IN SECRET AND SAFETY STORED !!!! \n",
    "\n",
    "### 2. Encryption (Locking the Message)\n",
    "\n",
    "To consider a key secure, key sizes are 2048 bits or longer. In this case, we are using a key size of 2048\n",
    "\n",
    "Now, someone has your public key and they want to send you a secret message. They use this key to lock (encrypt) the message so no one else can read it. Here's the process in the code:\n",
    "\n",
    "*encrypted_message = encrypt_message(plaintext_message, public_key)*\n",
    "\n",
    "The person writes a message (like \"Hello\").\n",
    "The message is \"locked\" using your public key.\n",
    "The result is a weird-looking scrambled message that only you can unlock.\n",
    "This step is important because even if someone intercepts the scrambled message, they can’t understand it without the private key.\n",
    "\n",
    "### 3. Decryption (Unlocking the Message)\n",
    "When you get the locked message, you use your private key to unlock (decrypt) it and read the original message.\n",
    "\n",
    "*decrypted_message = decrypt_message(encrypted_message, private_key)*\n",
    "\n",
    "You take the scrambled message.\n",
    "Use your private key to unlock it.\n",
    "Now, you can see the original message.\n"
   ]
  },
  {
   "cell_type": "code",
   "execution_count": 95,
   "id": "b2e18dcc-4f7a-4aa9-baa7-4187f98c0970",
   "metadata": {},
   "outputs": [],
   "source": [
    "## Import all the necessary libraries for the code\n",
    "import base64\n",
    "from cryptography.hazmat.primitives.asymmetric import rsa, padding\n",
    "from cryptography.hazmat.primitives import hashes, serialization\n",
    "from cryptography.exceptions import InvalidSignature\n",
    "from cryptography.hazmat.primitives.asymmetric import padding\n",
    "from cryptography.hazmat.primitives import hashes\n",
    "from cryptography.hazmat.backends import default_backend\n",
    "\n",
    "\n",
    "#########################################################################\n",
    "# GENERATE KEYS -> STUDENTS\n",
    "def generate_keys():\n",
    "    private_key = rsa.generate_private_key(\n",
    "        public_exponent=65537,\n",
    "        key_size=1024\n",
    "    )\n",
    "    public_key = private_key.public_key()\n",
    "    return public_key, private_key\n",
    "#########################################################################\n",
    "\n",
    "\n",
    "#########################################################################\n",
    "## KEY SERIALIZATION FOR GENERATE KEY PAIR\n",
    "def serialize_key_to_hex(key):\n",
    "    if isinstance(key, rsa.RSAPrivateKey):\n",
    "        key_bytes = key.private_bytes(\n",
    "            encoding=serialization.Encoding.DER,\n",
    "            format=serialization.PrivateFormat.TraditionalOpenSSL,\n",
    "            encryption_algorithm=serialization.NoEncryption()\n",
    "        )\n",
    "    elif isinstance(key, rsa.RSAPublicKey):\n",
    "        key_bytes = key.public_bytes(\n",
    "            encoding=serialization.Encoding.DER,\n",
    "            format=serialization.PublicFormat.SubjectPublicKeyInfo\n",
    "        )\n",
    "    else:\n",
    "        raise ValueError(\"Invalid key type\")\n",
    "    \n",
    "    return key_bytes.hex()\n",
    "#########################################################################\n",
    "\n",
    "    \n",
    "#########################################################################\n",
    "# ENCRYPTION\n",
    "def encrypt_message_with_public_key(plaintext_message, pb_key_hex):\n",
    "    \"\"\"\n",
    "    Encrypts a message using a public key in hex format.\n",
    "    \n",
    "    :param plaintext_message: The message to encrypt\n",
    "    :param pb_key_hex: The public key in hex format\n",
    "    :return: The encrypted message in base64 format\n",
    "    \"\"\"\n",
    "    # Step 1: Deserialize the public key from hex\n",
    "    public_key_bytes = bytes.fromhex(pb_key_hex)\n",
    "    public_key = serialization.load_der_public_key(public_key_bytes)\n",
    "\n",
    "    # Step 2: Encrypt the message using the public key\n",
    "    ciphertext = public_key.encrypt(\n",
    "        plaintext_message.encode('utf-8'),\n",
    "        padding.OAEP(\n",
    "            mgf=padding.MGF1(algorithm=hashes.SHA256()),\n",
    "            algorithm=hashes.SHA256(),\n",
    "            label=None\n",
    "        )\n",
    "    )\n",
    "    \n",
    "    # Step 3: Return the encrypted message in base64 format\n",
    "    return base64.b64encode(ciphertext).decode('utf-8')\n",
    "#########################################################################\n",
    "\n",
    "\n",
    "\n",
    "#########################################################################\n",
    "# DECRYPTION\n",
    "def decrypt_message_with_private_key(encrypted_message, pr_key_hex):\n",
    "    \"\"\"\n",
    "    Decrypts a message using a private key in hex format.\n",
    "    \n",
    "    :param encrypted_message: The encrypted message (base64 encoded ciphertext)\n",
    "    :param pr_key_hex: The private key in hex format\n",
    "    :return: The decrypted message (plaintext)\n",
    "    \"\"\"\n",
    "    # Step 1: Deserialize the private key from hex\n",
    "    private_key_bytes = bytes.fromhex(pr_key_hex)\n",
    "    private_key = serialization.load_der_private_key(\n",
    "        private_key_bytes,\n",
    "        password=None\n",
    "    )\n",
    "\n",
    "    # Step 2: Decrypt the message using the private key\n",
    "    decrypted = private_key.decrypt(\n",
    "        base64.b64decode(encrypted_message),  # Decode from base64 to bytes\n",
    "        padding.OAEP(\n",
    "            mgf=padding.MGF1(algorithm=hashes.SHA256()),\n",
    "            algorithm=hashes.SHA256(),\n",
    "            label=None\n",
    "        )\n",
    "    )\n",
    "    \n",
    "    # Step 3: Return the decrypted message as a string\n",
    "    return decrypted.decode('utf-8')\n",
    "#########################################################################\n",
    "\n",
    "\n",
    "#########################################################################\n",
    "# DIGITAL SIGNATURE\n",
    "def sign_message_with_private_key(message, pr_key_hex):\n",
    "    \"\"\"\n",
    "    Signs a message using a private key in hex format.\n",
    "    \n",
    "    :param message: The message to sign\n",
    "    :param pr_key_hex: The private key in hex format\n",
    "    :return: The digital signature in base64 format\n",
    "    \"\"\"\n",
    "    # Step 1: Deserialize the private key from hex\n",
    "    private_key_bytes = bytes.fromhex(pr_key_hex)\n",
    "    private_key = serialization.load_der_private_key(\n",
    "        private_key_bytes,\n",
    "        password=None\n",
    "    )\n",
    "\n",
    "    # Step 2: Sign the message using the private key\n",
    "    signature = private_key.sign(\n",
    "        message.encode('utf-8'),  # Convert the message to bytes\n",
    "        padding.PSS(\n",
    "            mgf=padding.MGF1(hashes.SHA256()),\n",
    "            salt_length=padding.PSS.MAX_LENGTH\n",
    "        ),\n",
    "        hashes.SHA256()\n",
    "    )\n",
    "    \n",
    "    # Step 3: Return the signature in base64 format\n",
    "    return base64.b64encode(signature).decode('utf-8')\n",
    "#########################################################################\n",
    "\n",
    "#########################################################################\n",
    "# VERIFY DIGITAL SIGNATURE\n",
    "def verify_signature_with_public_key(message, signature, pb_key_hex):\n",
    "    \"\"\"\n",
    "    Verifies a digital signature using a public key in hex format.\n",
    "    \n",
    "    :param message: The original message that was signed\n",
    "    :param signature: The Base64-encoded signature to verify\n",
    "    :param pb_key_hex: The public key in hex format\n",
    "    :return: True if the signature is valid, False otherwise\n",
    "    \"\"\"\n",
    "    try:\n",
    "        # Step 1: Deserialize the public key from hex\n",
    "        public_key_bytes = bytes.fromhex(pb_key_hex)\n",
    "        public_key = serialization.load_der_public_key(public_key_bytes)\n",
    "\n",
    "        # Step 2: Verify the signature\n",
    "        public_key.verify(\n",
    "            base64.b64decode(signature),  # Decode Base64 signature to bytes\n",
    "            message.encode('utf-8'),  # Convert message to bytes\n",
    "            padding.PSS(\n",
    "                mgf=padding.MGF1(hashes.SHA256()),\n",
    "                salt_length=padding.PSS.MAX_LENGTH\n",
    "            ),\n",
    "            hashes.SHA256()\n",
    "        )\n",
    "        return True\n",
    "    except Exception as e:\n",
    "        return False\n",
    "\n",
    "#########################################################################\n",
    "# Hashing function\n",
    "def get_text_hash(text: str) -> str:\n",
    "    # Create a SHA-256 hash object\n",
    "    digest = hashes.Hash(hashes.SHA256(), backend=default_backend())\n",
    "    \n",
    "    # Update the hash object with the bytes of the text\n",
    "    digest.update(text.encode('utf-8'))\n",
    "    \n",
    "    # Finalize the hash and get the digest\n",
    "    hash_bytes = digest.finalize()\n",
    "    \n",
    "    # Convert the hash bytes to a hexadecimal string\n",
    "    return hash_bytes.hex()\n",
    "\n",
    "\n"
   ]
  },
  {
   "cell_type": "code",
   "execution_count": 88,
   "id": "1a8bc09c-c6fc-492e-b827-6fbaff996578",
   "metadata": {},
   "outputs": [
    {
     "name": "stdout",
     "output_type": "stream",
     "text": [
      "Keys generated successfully. \n",
      "\n",
      "Private key (hex format): \n",
      "30820139020100024100cca92d34af134930ce25afe683d5d3ac120a7342c58cbf063ed471569359f28a8dbadf6883e784b8ad873dbede582ec5a24a62f9c2a80463b893d9b94f70f1fd0203010001024057879f52e1f1d0a2b3f80054095c612c3d8704a6b110b1fe3ccee52e4ed4f05ab7c23b1086d20aee558e8284d11bf5bb851138881c37cd0928cf48ec45f6ae8d022100ec19375f4c08bcb292a19d46d3d0e84da9c7b1d1f767e83613ef8ef8481dcd23022100dde990b3d019bb060963c2240918b53293b77a42bd60ab16c3f017af20d1065f02200a5e391e483a81fedd8d97588ae8bbaadd6fd59140ea213a6eb9b06f9acb243d022025359dc2d8d907a81a78f4bbb01ec97b429398578a83a40c7c2c4cfc5b87510702205a1a80170c87b4c13f7904b07a87ea14c711d7bb4fa4fa4f49383ccc3122674f \n",
      "\n",
      "Public key (hex format): \n",
      "305c300d06092a864886f70d0101010500034b003048024100cca92d34af134930ce25afe683d5d3ac120a7342c58cbf063ed471569359f28a8dbadf6883e784b8ad873dbede582ec5a24a62f9c2a80463b893d9b94f70f1fd0203010001 \n",
      "\n"
     ]
    }
   ],
   "source": [
    "# Block 1: Key Generation\n",
    "\n",
    "public_key, private_key = generate_keys()\n",
    "print(\"Keys generated successfully. \\n\")\n",
    "print(f\"Private key (hex format): \\n{serialize_key_to_hex(private_key)} \\n\")\n",
    "print(f\"Public key (hex format): \\n{serialize_key_to_hex(public_key)} \\n\")"
   ]
  },
  {
   "cell_type": "markdown",
   "id": "e3330f61-3e02-4d9a-8ffb-2da7cd379035",
   "metadata": {},
   "source": [
    "## ENCRYPTION/DECRYPTION\n"
   ]
  },
  {
   "cell_type": "code",
   "execution_count": 22,
   "id": "0bfbe077-a160-4b4c-8f99-a8897a7969ee",
   "metadata": {},
   "outputs": [
    {
     "name": "stdin",
     "output_type": "stream",
     "text": [
      "Enter the message to encrypt:  123456\n",
      "Enter the public key (hex format) for encryption:  30820122300d06092a864886f70d01010105000382010f003082010a0282010100b8ad61ea97de686ecf9ea7317cced9a53d6d49bc1caf9b5cf439e58fa5c725574c84872dce79b8d9ad17aca8ac466e470e91207185901f61efa9223dc46e49d19e76824da4f88b06b7b9d6eab0f741d71e63c7cafce8b21684b710cc33e6a45a2f17e4f7ce9fdf4a1841eadebf085caf7980ed869067cd10c996e69a7156c46fc49772cba6ab87c80c2dd4d99448c1675f08fb84c83b9911f85cea0efa5b27a27d46711ed96a58a33d8b8013d4ca90d59b5e338ef29bdde9eaa1823cbfe6dd5fd11eb256b8469ae773e16e0d2a8a4685096ad973226f75809dbc30cc7b5f69a5d23419013bb9d932c6760bb1a43ea17cf59f9dd0bae2ff86ab7bc080747aca3d0203010001\n"
     ]
    },
    {
     "name": "stdout",
     "output_type": "stream",
     "text": [
      "\n",
      "Encrypted message: rAjTdnUBB/DyX4OxWQWKDfTYTsVJV5uAdCcALDsiiff1d4Y29je5ZuaQX7MKf8qVCzsHuVQ4alOLG+vyTUPNZrN9LMabxGWHTxiQmztcub/w+8MH46UkvYOPOstNcUxBdkWmq1PmINGB0P5qB5u/cqvoLVbz85HQv26h5pFHrWZTu3xbx5ZLLsILvIPfRxMV9DCVVyYC8GKIha+xUZ+LicNvYxuZWP23OT1N4b5aqvgNLZ7rTS3D2WSofYcfH+Cmbr/cCwfnTL7+W28C0INp70wqaEK5qknOAMDhnI89M1Eu4/aTaFkraTu6SXwZtcqYcxJcx7ozY9atzK7FI9J20w== \n",
      "\n"
     ]
    }
   ],
   "source": [
    "# ENCRYPTION\n",
    "# Input message and public key\n",
    "plaintext_message = input('Enter the message to encrypt: ')\n",
    "pb_key_hex = input('Enter the public key (hex format) for encryption: ')\n",
    "\n",
    "# Encrypt the message and print the result\n",
    "encrypted_message = encrypt_message_with_public_key(plaintext_message, pb_key_hex)\n",
    "print(f\"\\nEncrypted message: {encrypted_message} \\n\")"
   ]
  },
  {
   "cell_type": "code",
   "execution_count": 19,
   "id": "7272afff-ec40-44ce-8b5c-66ccbeb2cb24",
   "metadata": {},
   "outputs": [
    {
     "name": "stdin",
     "output_type": "stream",
     "text": [
      "Enter the encrypted message (ciphertext):  P6ic9UayQ9JWpPCXWFOUOYZY1WPtcZF3xLl38h6bJYBQitDqdxVI8VVi8/EkHfWImq0HEXRksO+GqJw2zAgIncmUaOmNrDNcieEnTug4ZYH9yIxKXBOlE0Rnrr/YAbg4NasT72uGr7VIqGQmMS+ko7yB4XkiCYjmnjawrHh/Eh1Cj4+RLR8SCHuQEJq2CldAtQxqdLb0AmafG0HhWVHw0H6bjz84POTcrJbovPjgp8XyAAOtIiNHxX9knb3VAVE5SkzYhL1+SBuw9V1ohBEyCVrFBimZLn01Pqd27VJ8skk+ErVE6qUdyah16sQK6rOBL9UdBzOZuMEK9c46J/JCeQ==\n",
      "Enter the private key (hex format) for decryption:  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\n"
     ]
    },
    {
     "name": "stdout",
     "output_type": "stream",
     "text": [
      "\n",
      "Decrypted message: Hola mundo \n",
      "\n"
     ]
    }
   ],
   "source": [
    "# DECRYPTION\n",
    "# Input encrypted message and private key\n",
    "encrypted_message = input('Enter the encrypted message (ciphertext): ')\n",
    "pr_key_hex = input('Enter the private key (hex format) for decryption: ')\n",
    "\n",
    "# Decrypt the message and print the result\n",
    "decrypted_message = decrypt_message_with_private_key(encrypted_message, pr_key_hex)\n",
    "print(f\"\\nDecrypted message: {decrypted_message} \\n\")"
   ]
  },
  {
   "cell_type": "markdown",
   "id": "6d26abf0-97b0-45a6-9d71-01b09cb91788",
   "metadata": {},
   "source": [
    "## What is a Digital Signature? (Non-repudiation)\n",
    "A digital signature is like signing a letter with your unique signature, but instead of using a pen, you use your private key to \"sign\" the message. When someone else gets your signed message, they can use your public key to check if the message is really from you and if it hasn't been tampered with.\n",
    "\n",
    "Here’s the process:\n",
    "\n",
    "Sign the Message: You \"sign\" the message using your private key.\n",
    "Verify the Signature: Anyone can check the signature with your public key to make sure it's really you who sent the message and that it hasn’t been altered.\n",
    "\n",
    "### Digital Signature (Signing the Message)\n",
    "This is where you take a message and create a digital signature with your private key. It’s like putting your personal stamp on the message so others know it’s truly from you.\n",
    "\n",
    "*signature = sign_message(message_to_sign, private_key)*\n",
    "\n",
    "You create a signature using your private key. This signature is unique to both your message and your private key.\n",
    "The signature is like a scrambled code that only your private key could create.\n",
    "The message itself is not encrypted here, but it’s signed so that people can verify its authenticity.\n",
    "\n",
    "#### Why Sign a Message?\n",
    "- Proof of Identity: It proves the message came from you (the private key holder).\n",
    "- Integrity: It ensures the message wasn’t altered during transmission.\n",
    "\n",
    "### Signature Verification (Checking the Signature)\n",
    "Now, if someone receives your signed message, they can check that it's really from you by verifying it with your public key.\n",
    "\n",
    "In the code:\n",
    "\n",
    "*is_valid = verify_signature(message_to_sign, signature_to_verify, public_key)*\n",
    "\n",
    "Here’s what happens:\n",
    "\n",
    "Verification: The public key is used to check the signature and confirm if it matches the message. If it does, the signature is valid.\n",
    "If the message or signature doesn’t match, it means something is wrong (like someone tried to change the message), and the verification will fail.\n",
    "\n",
    "Simple Example:\n",
    "1. Alice writes a message and signs it with her private key.\n",
    "2. Bob receives the message and Alice’s signature.\n",
    "3. Bob uses Alice’s public key to verify that:\n",
    "4. The message really came from Alice.\n",
    "5. The message hasn’t been changed.\n",
    "\n",
    "\n",
    "### What is Necessary for Signature Verification:\n",
    "- Original Message: The message that was signed.\n",
    "- Digital Signature: A unique signature created by the sender using their private key.\n",
    "- Public Key: The public key of the sender used to verify the signature.\n",
    "- Hashing Algorithm: A function that converts the message into a fixed-length string (e.g., SHA-256).\n",
    "- Signing Algorithm: RSA (with padding) used to sign the hashed message.\n",
    "\n",
    "Process:\n",
    "1. Hash the Message: The recipient hashes the original message using the same algorithm (e.g., SHA-256).\n",
    "2. Decrypt the Signature: The signature is decrypted using the sender’s public key to retrieve the original hash.\n",
    "3. Compare Hashes: If the decrypted hash matches the hash of the message, the signature is valid. Otherwise, it’s invalid.\n"
   ]
  },
  {
   "cell_type": "code",
   "execution_count": 97,
   "id": "5ecdf930-f33b-400d-938f-73d4a4340323",
   "metadata": {},
   "outputs": [
    {
     "name": "stdin",
     "output_type": "stream",
     "text": [
      "Enter the message to digitally sign:  This is my message\n",
      "Enter your private key (hex format) for signing:  308204a20201000282010100b8ad61ea97de686ecf9ea7317cced9a53d6d49bc1caf9b5cf439e58fa5c725574c84872dce79b8d9ad17aca8ac466e470e91207185901f61efa9223dc46e49d19e76824da4f88b06b7b9d6eab0f741d71e63c7cafce8b21684b710cc33e6a45a2f17e4f7ce9fdf4a1841eadebf085caf7980ed869067cd10c996e69a7156c46fc49772cba6ab87c80c2dd4d99448c1675f08fb84c83b9911f85cea0efa5b27a27d46711ed96a58a33d8b8013d4ca90d59b5e338ef29bdde9eaa1823cbfe6dd5fd11eb256b8469ae773e16e0d2a8a4685096ad973226f75809dbc30cc7b5f69a5d23419013bb9d932c6760bb1a43ea17cf59f9dd0bae2ff86ab7bc080747aca3d02030100010282010029a2a346efb6cb7e220e4f7ce379c20d542839bdb08cf1beb6ebffa28f5a32c3b8034ff3a68f803a8920e3830295fd6245393862879d6ac9da6d9c03e76f82f280a290b57f1a2ec3d4b38fedc8f871ae555263169346c5f1b8398a8eb32bce456bc51c10b75389548bdbfe9ef9dc218349262546d773238323a3c2f93250c0c7dce5d0c9e314fc15a4e26a5422bc4694c43538febb98b236411b7a64a63d9cc51558b8f4253606eb08e87975839e1efc5090f5055fe68a1d04b0ff12a73bcf02e33e1d02bab1ab152df26a92f56971e63584fcc3f1aa5422a0af2d2b451b451644258058a0efb7d902cccad21a01fbbaa19ac36d746de41fa639f6bdde47d08102818100e1076c9f41ec18929b6ab7c624086f47f9cba2fd4b6628a32ba5d98dbc13592234752feafad85ee68d47cef18092a26fe32231e7412d899e5f0aad6fbda25b4d3d3a5ea3fa385e8bf1e15e33d5f51c1ff9fc7d03297e04ebb6637389dd4f7152df12929a0b4b7bc2e762a264a0fdde95288d2265d18a810f70a2f98712da7d8102818100d21839038b76139043ecd18cc1847018aaf946aaa88b7a06153329f4770a8953b05ded0320b4b89c61e38cfddf8848cc5c0ee9d00c1e4057c7efb3a84b236396822f37225e216709fdd456b4f795e8d9e48a747cc9524c0de6880791b73b80d52ff108821554c603b01b9301cb2dea389bfe36d1b2a0adbd61d8a4bd870122bd0281800abae4e60f29a7de4dc4dff075c56531046b3e615f980676095dc62ae8fdef311f593b28b43f5eff155b8835a1d0dc2803a79cc38f2b11b5d88854ced0370ead772ef25655571cc3058c9e86503c78d3d982bd9f49fa3557dc018fffd1eab8d79fc56df22479bbf4063e80c9d5976566ad6155738f7350462133d43c299cfb810281802e979c9d42a26ef841781588c7a9dd4a3b30891173cb6ac64a914c2ea0efbf40c60e2e6fd1230305fb57817f13c19f93629f140f4580b7f83fa8d308f190e997094bfb482de3ee7bf2c4d26dd3b2752f4d55bf3ba55210f7cc3642a778214413034ccafc3e4acc9728c914b303222d9d5c4ae6515ef1ef55de8b330dad10fd69028180130b59c4664bd69a8b167c9e2d0577f7d5b80590027b946ae4ce5fc308bbcc3ddf86b943f0ad6b4c3c4d39d06fbf3460c73f1e9c3242fb5d8405523efe830a2aec2e3f7c6e7a8a373c16309288a9ee1550d908fdc3ace2aa74fddca66f976e2ef3a7cf79b14fb4cbb511195da51a5d29f7c61ba8ec33ac12361bb769a85d676f\n"
     ]
    },
    {
     "name": "stdout",
     "output_type": "stream",
     "text": [
      "\n",
      "Digital signature: dGYQ1ppMHnHZffDUcNn8KJLYxInw2wnuhO7lk0gO/TDfYKdr3iMobNRyEyHQIFBO5qTMg9pPjlSFoH28t4pndsamgJRTRkkMZ2TUxK0t0a5c4n2upVfRIStL1EBanlfllPF64M9w1m8WC6oKNuwD4uAdRz6y+ifcUCi4IYu1pt8X65vE5nVn0qMEHNSUufXFogzSV3ZUmMSyzCk+SCz2SoWcW02/b1Zx//1ONx7vFfCWIRBZl9YxsmDNSnoiPSr4DeojkDQ8G8SUzqASAF7Fx4nXgRpDDn3HITXRR43TZkLWpcEORE2697Esqs8W5HseblfVXjGNzlwgBZYzSBFxnA== \n",
      "\n"
     ]
    }
   ],
   "source": [
    "# DIGITAL SIGNATURE\n",
    "\n",
    "# Input message and private key for signing\n",
    "message_to_sign = input('Enter the message to digitally sign: ')\n",
    "pr_key_hex = input('Enter your private key (hex format) for signing: ')\n",
    "\n",
    "# Sign the message and print the result\n",
    "signature = sign_message_with_private_key(message_to_sign, pr_key_hex)\n",
    "print(f\"\\nDigital signature: {signature} \\n\")\n"
   ]
  },
  {
   "cell_type": "code",
   "execution_count": 99,
   "id": "148b23e5-5160-436f-9d01-2156ca05dd36",
   "metadata": {},
   "outputs": [
    {
     "name": "stdin",
     "output_type": "stream",
     "text": [
      "Enter the signature to verify:  dGYQ1ppMHnHZffDUcNn8KJLYxInw2wnuhO7lk0gO/TDfYKdr3iMobNRyEyHQIFBO5qTMg9pPjlSFoH28t4pndsamgJRTRkkMZ2TUxK0t0a5c4n2upVfRIStL1EBanlfllPF64M9w1m8WC6oKNuwD4uAdRz6y+ifcUCi4IYu1pt8X65vE5nVn0qMEHNSUufXFogzSV3ZUmMSyzCk+SCz2SoWcW02/b1Zx//1ONx7vFfCWIRBZl9YxsmDNSnoiPSr4DeojkDQ8G8SUzqASAF7Fx4nXgRpDDn3HITXRR43TZkLWpcEORE2697Esqs8W5HseblfVXjGNzlwgBZYzSBFxnA==\n",
      "Enter the public key (hex format) for verification:  30820122300d06092a864886f70d01010105000382010f003082010a0282010100b8ad61ea97de686ecf9ea7317cced9a53d6d49bc1caf9b5cf439e58fa5c725574c84872dce79b8d9ad17aca8ac466e470e91207185901f61efa9223dc46e49d19e76824da4f88b06b7b9d6eab0f741d71e63c7cafce8b21684b710cc33e6a45a2f17e4f7ce9fdf4a1841eadebf085caf7980ed869067cd10c996e69a7156c46fc49772cba6ab87c80c2dd4d99448c1675f08fb84c83b9911f85cea0efa5b27a27d46711ed96a58a33d8b8013d4ca90d59b5e338ef29bdde9eaa1823cbfe6dd5fd11eb256b8469ae773e16e0d2a8a4685096ad973226f75809dbc30cc7b5f69a5d23419013bb9d932c6760bb1a43ea17cf59f9dd0bae2ff86ab7bc080747aca3d0203010001\n",
      "Enter the student ID HASH to verify:  This is my message\n"
     ]
    },
    {
     "name": "stdout",
     "output_type": "stream",
     "text": [
      "\n",
      "The signature is valid.\n",
      "\n",
      "Original message: This is my message\n",
      "\n"
     ]
    }
   ],
   "source": [
    "# SIGNATURE VERIFICATION\n",
    "\n",
    "# Input signature and public key for verification\n",
    "signature_to_verify = input('Enter the signature to verify: ')\n",
    "pb_key_hex = input('Enter the public key (hex format) for verification: ')\n",
    "message_to_sign = input('Enter the message you want to verify: ')\n",
    "\n",
    "# Verify the signature and print the result\n",
    "is_valid = verify_signature_with_public_key(message_to_sign, signature_to_verify, pb_key_hex)\n",
    "\n",
    "if is_valid:\n",
    "    print(\"\\nThe signature is valid.\\n\")\n",
    "    print(f\"Original message: {message_to_sign}\\n\")\n",
    "else:\n",
    "    print(\"\\nThe signature is invalid.\\n\")"
   ]
  },
  {
   "cell_type": "code",
   "execution_count": 47,
   "id": "eb91a023-6c86-43db-99bb-84a84e2cde12",
   "metadata": {},
   "outputs": [
    {
     "name": "stdin",
     "output_type": "stream",
     "text": [
      "Enter the Student ID to get the HASH using SHA256:  098765\n"
     ]
    },
    {
     "name": "stdout",
     "output_type": "stream",
     "text": [
      "Hash of the text: 4a9ca4596692e94f9d2912b06a0d007564a22ee750339a6021c2392149b25d6d\n"
     ]
    }
   ],
   "source": [
    "# HASHING FUNCTION\n",
    "\n",
    "# Example usage\n",
    "text = input('Enter the Student ID to get the HASH using SHA256: ')\n",
    "hash_result = str(get_text_hash(text))\n",
    "print(f\"Hash of the text: {hash_result}\")\n"
   ]
  },
  {
   "cell_type": "code",
   "execution_count": null,
   "id": "63ef2fbd-becd-466b-9fef-55d33b0bf5a7",
   "metadata": {},
   "outputs": [],
   "source": []
  }
 ],
 "metadata": {
  "kernelspec": {
   "display_name": "Python 3 (ipykernel)",
   "language": "python",
   "name": "python3"
  },
  "language_info": {
   "codemirror_mode": {
    "name": "ipython",
    "version": 3
   },
   "file_extension": ".py",
   "mimetype": "text/x-python",
   "name": "python",
   "nbconvert_exporter": "python",
   "pygments_lexer": "ipython3",
   "version": "3.12.3"
  }
 },
 "nbformat": 4,
 "nbformat_minor": 5
}
