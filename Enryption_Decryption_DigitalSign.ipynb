{
 "cells": [
  {
   "cell_type": "markdown",
   "id": "4090c21a-8c56-43a8-889b-317146357649",
   "metadata": {},
   "source": [
    "# Encryprtion/Decryption/Hashing\n",
    "\n",
    "### What is RSA?\n",
    "RSA is like having two special keys: one you can share with everyone (public key) and one that only you should have (private key). These keys are used to lock (encrypt) and unlock (decrypt) secret messages.\n",
    "\n",
    "- Public Key: This is like a padlock you give to anyone. People can use it to lock a message for you.\n",
    "- Private Key: This is like the key to the padlock. Only you have it, and you use it to unlock the messages sent to you.\n",
    "\n",
    "### 1. Key Generation (Creating the Keys)\n",
    "In the code, we're using a function called generate_keys() to make both keys:\n",
    "\n",
    "- Public key: Used to lock the message.\n",
    "- Private key: Used to unlock the message.\n",
    "\n",
    "*public_key, private_key = generate_keys()*\n",
    "\n",
    "After making the keys, the code converts them into a simple format (hexadecimal, which is like a simplified number format) so we can store or share them easily. That’s what serialize_private_key_to_hex() and serialize_public_key_to_hex() do.\n",
    "\n",
    "#### --> AFTER YOU GENERATE A RANDOM KEY PAIR, PLEASE KEEP IT SAFE, PUBLIC KEY MUST BE PUBLISHD IN CANVAS, PRIVATE KEY MUST BE KEPT IN SECRET AND SAFETY STORED !!!! \n",
    "\n",
    "### 2. Encryption (Locking the Message)\n",
    "\n",
    "To consider a key secure, key sizes are 2048 bits or longer. In this case, we are using a key size of 2048\n",
    "\n",
    "Now, someone has your public key and they want to send you a secret message. They use this key to lock (encrypt) the message so no one else can read it. Here's the process in the code:\n",
    "\n",
    "*encrypted_message = encrypt_message(plaintext_message, public_key)*\n",
    "\n",
    "The person writes a message (like \"Hello\").\n",
    "The message is \"locked\" using your public key.\n",
    "The result is a weird-looking scrambled message that only you can unlock.\n",
    "This step is important because even if someone intercepts the scrambled message, they can’t understand it without the private key.\n",
    "\n",
    "### 3. Decryption (Unlocking the Message)\n",
    "When you get the locked message, you use your private key to unlock (decrypt) it and read the original message.\n",
    "\n",
    "*decrypted_message = decrypt_message(encrypted_message, private_key)*\n",
    "\n",
    "You take the scrambled message.\n",
    "Use your private key to unlock it.\n",
    "Now, you can see the original message.\n"
   ]
  },
  {
   "cell_type": "code",
   "execution_count": 39,
   "id": "b2e18dcc-4f7a-4aa9-baa7-4187f98c0970",
   "metadata": {},
   "outputs": [],
   "source": [
    "## Import all the necessary libraries for the code\n",
    "import base64\n",
    "from cryptography.hazmat.primitives.asymmetric import rsa, padding\n",
    "from cryptography.hazmat.primitives import hashes, serialization\n",
    "from cryptography.exceptions import InvalidSignature\n",
    "from cryptography.hazmat.primitives.asymmetric import padding\n",
    "from cryptography.hazmat.primitives import hashes\n",
    "from cryptography.hazmat.backends import default_backend\n",
    "\n",
    "\n",
    "# Define functions for the entire code\n",
    "\n",
    "def generate_keys():\n",
    "    private_key = rsa.generate_private_key(\n",
    "        public_exponent=65537,\n",
    "        key_size=2048\n",
    "    )\n",
    "    public_key = private_key.public_key()\n",
    "    return public_key, private_key\n",
    "\n",
    "# Function to serialize private key and convert to hex\n",
    "\n",
    "def serialize_private_key_to_hex(private_key):\n",
    "    private_key_bytes = private_key.private_bytes(\n",
    "        encoding=serialization.Encoding.DER,\n",
    "        format=serialization.PrivateFormat.TraditionalOpenSSL,\n",
    "        encryption_algorithm=serialization.NoEncryption()\n",
    "    )\n",
    "    return private_key_bytes.hex()\n",
    "\n",
    "# Function to serialize public key and convert to hex\n",
    "\n",
    "def serialize_public_key_to_hex(public_key):\n",
    "    public_key_bytes = public_key.public_bytes(\n",
    "        encoding=serialization.Encoding.DER,\n",
    "        format=serialization.PublicFormat.SubjectPublicKeyInfo\n",
    "    )\n",
    "    return public_key_bytes.hex()\n",
    "\n",
    "# Function to deserialize hex back to private key\n",
    "\n",
    "def deserialize_private_key_from_hex(hex_data):\n",
    "    private_key_bytes = bytes.fromhex(hex_data)\n",
    "    private_key = serialization.load_der_private_key(\n",
    "        private_key_bytes,\n",
    "        password=None\n",
    "    )\n",
    "    return private_key\n",
    "\n",
    "# Function to deserialize hex back to public key\n",
    "\n",
    "def deserialize_public_key_from_hex(hex_data):\n",
    "    public_key_bytes = bytes.fromhex(hex_data)\n",
    "    public_key = serialization.load_der_public_key(\n",
    "        public_key_bytes\n",
    "    )\n",
    "    return public_key\n",
    "\n",
    "# Digital signing \n",
    "def sign_message(message, private_key):\n",
    "    signature = private_key.sign(\n",
    "        message.encode('utf-8'),  # Encode the message to bytes\n",
    "        padding.PSS(\n",
    "            mgf=padding.MGF1(hashes.SHA256()),\n",
    "            salt_length=padding.PSS.MAX_LENGTH\n",
    "        ),\n",
    "        hashes.SHA256()\n",
    "    )\n",
    "    return base64.b64encode(signature).decode('utf-8')  # Return Base64-encoded signature\n",
    "\n",
    "# Signature Verification\n",
    "def verify_signature(message, signature, public_key):\n",
    "    try:\n",
    "        public_key.verify(\n",
    "            base64.b64decode(signature),  # Decode Base64 to bytes\n",
    "            message.encode('utf-8'),  # Message needs to be bytes\n",
    "            padding.PSS(\n",
    "                mgf=padding.MGF1(hashes.SHA256()),\n",
    "                salt_length=padding.PSS.MAX_LENGTH\n",
    "            ),\n",
    "            hashes.SHA256()\n",
    "        )\n",
    "        return True\n",
    "    except Exception as e:\n",
    "        return False\n",
    "\n",
    "# Hashing function\n",
    "def get_text_hash(text: str) -> str:\n",
    "    # Create a SHA-256 hash object\n",
    "    digest = hashes.Hash(hashes.SHA256(), backend=default_backend())\n",
    "    \n",
    "    # Update the hash object with the bytes of the text\n",
    "    digest.update(text.encode('utf-8'))\n",
    "    \n",
    "    # Finalize the hash and get the digest\n",
    "    hash_bytes = digest.finalize()\n",
    "    \n",
    "    # Convert the hash bytes to a hexadecimal string\n",
    "    return hash_bytes.hex()\n",
    "\n",
    "def encrypt_message(plaintext, public_key):\n",
    "    ciphertext = public_key.encrypt(\n",
    "        plaintext.encode('utf-8'),\n",
    "        padding.OAEP(\n",
    "            mgf=padding.MGF1(algorithm=hashes.SHA256()),\n",
    "            algorithm=hashes.SHA256(),\n",
    "            label=None\n",
    "        )\n",
    "    )\n",
    "    return base64.b64encode(ciphertext).decode('utf-8')  # Convert to base64 string\n",
    "\n",
    "def decrypt_message(ciphertext, private_key):\n",
    "    decrypted = private_key.decrypt(\n",
    "        base64.b64decode(ciphertext),  # Decode from base64 to bytes\n",
    "        padding.OAEP(\n",
    "            mgf=padding.MGF1(algorithm=hashes.SHA256()),\n",
    "            algorithm=hashes.SHA256(),\n",
    "            label=None\n",
    "        )\n",
    "    )\n",
    "    return decrypted.decode('utf-8')  # Convert decrypted bytes to string"
   ]
  },
  {
   "cell_type": "code",
   "execution_count": 33,
   "id": "1a8bc09c-c6fc-492e-b827-6fbaff996578",
   "metadata": {},
   "outputs": [
    {
     "name": "stdout",
     "output_type": "stream",
     "text": [
      "Keys generated successfully. \n",
      "\n",
      "Private key (hex format): \n",
      "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 \n",
      "\n",
      "Public key (hex format): \n",
      "30820122300d06092a864886f70d01010105000382010f003082010a0282010100b8ad61ea97de686ecf9ea7317cced9a53d6d49bc1caf9b5cf439e58fa5c725574c84872dce79b8d9ad17aca8ac466e470e91207185901f61efa9223dc46e49d19e76824da4f88b06b7b9d6eab0f741d71e63c7cafce8b21684b710cc33e6a45a2f17e4f7ce9fdf4a1841eadebf085caf7980ed869067cd10c996e69a7156c46fc49772cba6ab87c80c2dd4d99448c1675f08fb84c83b9911f85cea0efa5b27a27d46711ed96a58a33d8b8013d4ca90d59b5e338ef29bdde9eaa1823cbfe6dd5fd11eb256b8469ae773e16e0d2a8a4685096ad973226f75809dbc30cc7b5f69a5d23419013bb9d932c6760bb1a43ea17cf59f9dd0bae2ff86ab7bc080747aca3d0203010001 \n",
      "\n"
     ]
    }
   ],
   "source": [
    "# Block 1: Key Generation\n",
    "\n",
    "public_key, private_key = generate_keys()\n",
    "print(\"Keys generated successfully. \\n\")\n",
    "print(f\"Private key (hex format): \\n{serialize_private_key_to_hex(private_key)} \\n\")\n",
    "print(f\"Public key (hex format): \\n{serialize_public_key_to_hex(public_key)} \\n\")"
   ]
  },
  {
   "cell_type": "code",
   "execution_count": 37,
   "id": "3be1023b-7914-4848-8c79-b68cf8651a20",
   "metadata": {},
   "outputs": [
    {
     "name": "stdin",
     "output_type": "stream",
     "text": [
      "Enter the message to encrypt:  12345\n",
      "Enter the public key (hex format) for encryption:  30820122300d06092a864886f70d01010105000382010f003082010a0282010100b8ad61ea97de686ecf9ea7317cced9a53d6d49bc1caf9b5cf439e58fa5c725574c84872dce79b8d9ad17aca8ac466e470e91207185901f61efa9223dc46e49d19e76824da4f88b06b7b9d6eab0f741d71e63c7cafce8b21684b710cc33e6a45a2f17e4f7ce9fdf4a1841eadebf085caf7980ed869067cd10c996e69a7156c46fc49772cba6ab87c80c2dd4d99448c1675f08fb84c83b9911f85cea0efa5b27a27d46711ed96a58a33d8b8013d4ca90d59b5e338ef29bdde9eaa1823cbfe6dd5fd11eb256b8469ae773e16e0d2a8a4685096ad973226f75809dbc30cc7b5f69a5d23419013bb9d932c6760bb1a43ea17cf59f9dd0bae2ff86ab7bc080747aca3d0203010001\n"
     ]
    },
    {
     "name": "stdout",
     "output_type": "stream",
     "text": [
      "\n",
      "Encrypted message: l09IlKyYVN8SiAYeRo+zWIiWSYBHEFrH1jxoZFqYEdg/xq0+yl+bEWiLffydxIlEY0Hk9gDdVDqBpS7m0+nRnAPxRfujomjd1OmMY+ggamU++6+5YF88Gy/2NvMbzu+PhzlfCX777Fweh00cF0FWBYmt1Ss6tZPZI1jI+BZ4v4Zjr2rohTAMxzjH6YE8dFBjPJZzlI/URvdc7FfTsZVOYXaIUurhHNRzB/ZougM3PsmkXGoZlbyTXqB5DbVnCk8nNHt6F+Uvqt6BVBfUjKgUFFu1rlvwfOdVhpM+BYSEmqnQZLJIDKQ2Pr21SNecQjzWgUs8Qt4FaK1I3JVsxy54aQ== \n",
      "\n"
     ]
    }
   ],
   "source": [
    "# Block 2: Encryption \n",
    "\n",
    "# Encryption needs to be performed using public key\n",
    "\n",
    "plaintext_message = input('Enter the message to encrypt: ')\n",
    "pb_key_hex = input('Enter the public key (hex format) for encryption: ')\n",
    "\n",
    "# Deserialize the public key from hex\n",
    "public_key = deserialize_public_key_from_hex(pb_key_hex)\n",
    "\n",
    "# Encrypt the message using the public key\n",
    "encrypted_message = encrypt_message(plaintext_message, public_key)\n",
    "print(f\"\\nEncrypted message: {encrypted_message} \\n\")\n"
   ]
  },
  {
   "cell_type": "code",
   "execution_count": 41,
   "id": "7272afff-ec40-44ce-8b5c-66ccbeb2cb24",
   "metadata": {},
   "outputs": [
    {
     "name": "stdin",
     "output_type": "stream",
     "text": [
      "Enter the encrypted message (ciphertext):  l09IlKyYVN8SiAYeRo+zWIiWSYBHEFrH1jxoZFqYEdg/xq0+yl+bEWiLffydxIlEY0Hk9gDdVDqBpS7m0+nRnAPxRfujomjd1OmMY+ggamU++6+5YF88Gy/2NvMbzu+PhzlfCX777Fweh00cF0FWBYmt1Ss6tZPZI1jI+BZ4v4Zjr2rohTAMxzjH6YE8dFBjPJZzlI/URvdc7FfTsZVOYXaIUurhHNRzB/ZougM3PsmkXGoZlbyTXqB5DbVnCk8nNHt6F+Uvqt6BVBfUjKgUFFu1rlvwfOdVhpM+BYSEmqnQZLJIDKQ2Pr21SNecQjzWgUs8Qt4FaK1I3JVsxy54aQ==\n",
      "Enter the private key (hex format) for decryption:  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\n"
     ]
    },
    {
     "name": "stdout",
     "output_type": "stream",
     "text": [
      "\n",
      "Decrypted message: 12345 \n",
      "\n"
     ]
    }
   ],
   "source": [
    "# Block 3: Decryption\n",
    "\n",
    "# Encryption needs to be performed using private key\n",
    "\n",
    "encrypted_message = input('Enter the encrypted message (ciphertext): ')\n",
    "pr_key_hex = input('Enter the private key (hex format) for decryption: ')\n",
    "\n",
    "# Deserialize the private key from hex\n",
    "private_key = deserialize_private_key_from_hex(pr_key_hex)\n",
    "\n",
    "# Decrypt the message using the private key\n",
    "decrypted_message = decrypt_message(encrypted_message, private_key)\n",
    "print(f\"\\nDecrypted message: {decrypted_message} \\n\")\n"
   ]
  },
  {
   "cell_type": "markdown",
   "id": "6d26abf0-97b0-45a6-9d71-01b09cb91788",
   "metadata": {},
   "source": [
    "## What is a Digital Signature? (Non-repudiation)\n",
    "A digital signature is like signing a letter with your unique signature, but instead of using a pen, you use your private key to \"sign\" the message. When someone else gets your signed message, they can use your public key to check if the message is really from you and if it hasn't been tampered with.\n",
    "\n",
    "Here’s the process:\n",
    "\n",
    "Sign the Message: You \"sign\" the message using your private key.\n",
    "Verify the Signature: Anyone can check the signature with your public key to make sure it's really you who sent the message and that it hasn’t been altered.\n",
    "\n",
    "### Digital Signature (Signing the Message)\n",
    "This is where you take a message and create a digital signature with your private key. It’s like putting your personal stamp on the message so others know it’s truly from you.\n",
    "\n",
    "*signature = sign_message(message_to_sign, private_key)*\n",
    "\n",
    "You create a signature using your private key. This signature is unique to both your message and your private key.\n",
    "The signature is like a scrambled code that only your private key could create.\n",
    "The message itself is not encrypted here, but it’s signed so that people can verify its authenticity.\n",
    "\n",
    "#### Why Sign a Message?\n",
    "- Proof of Identity: It proves the message came from you (the private key holder).\n",
    "- Integrity: It ensures the message wasn’t altered during transmission.\n",
    "\n",
    "### Signature Verification (Checking the Signature)\n",
    "Now, if someone receives your signed message, they can check that it's really from you by verifying it with your public key.\n",
    "\n",
    "In the code:\n",
    "\n",
    "*is_valid = verify_signature(message_to_sign, signature_to_verify, public_key)*\n",
    "\n",
    "Here’s what happens:\n",
    "\n",
    "Verification: The public key is used to check the signature and confirm if it matches the message. If it does, the signature is valid.\n",
    "If the message or signature doesn’t match, it means something is wrong (like someone tried to change the message), and the verification will fail.\n",
    "\n",
    "Simple Example:\n",
    "1. Alice writes a message and signs it with her private key.\n",
    "2. Bob receives the message and Alice’s signature.\n",
    "3. Bob uses Alice’s public key to verify that:\n",
    "4. The message really came from Alice.\n",
    "5. The message hasn’t been changed.\n",
    "\n",
    "\n",
    "### What is Necessary for Signature Verification:\n",
    "- Original Message: The message that was signed.\n",
    "- Digital Signature: A unique signature created by the sender using their private key.\n",
    "- Public Key: The public key of the sender used to verify the signature.\n",
    "- Hashing Algorithm: A function that converts the message into a fixed-length string (e.g., SHA-256).\n",
    "- Signing Algorithm: RSA (with padding) used to sign the hashed message.\n",
    "\n",
    "Process:\n",
    "1. Hash the Message: The recipient hashes the original message using the same algorithm (e.g., SHA-256).\n",
    "2. Decrypt the Signature: The signature is decrypted using the sender’s public key to retrieve the original hash.\n",
    "3. Compare Hashes: If the decrypted hash matches the hash of the message, the signature is valid. Otherwise, it’s invalid.\n"
   ]
  },
  {
   "cell_type": "code",
   "execution_count": 47,
   "id": "eb91a023-6c86-43db-99bb-84a84e2cde12",
   "metadata": {},
   "outputs": [
    {
     "name": "stdin",
     "output_type": "stream",
     "text": [
      "Enter the Student ID to get the HASH using SHA256:  098765\n"
     ]
    },
    {
     "name": "stdout",
     "output_type": "stream",
     "text": [
      "Hash of the text: 4a9ca4596692e94f9d2912b06a0d007564a22ee750339a6021c2392149b25d6d\n"
     ]
    }
   ],
   "source": [
    "# Block 6. Hashing function\n",
    "\n",
    "# Example usage\n",
    "text = input('Enter the Student ID to get the HASH using SHA256: ')\n",
    "hash_result = str(get_text_hash(text))\n",
    "print(f\"Hash of the text: {hash_result}\")\n"
   ]
  },
  {
   "cell_type": "code",
   "execution_count": 49,
   "id": "5ecdf930-f33b-400d-938f-73d4a4340323",
   "metadata": {},
   "outputs": [
    {
     "name": "stdin",
     "output_type": "stream",
     "text": [
      "Enter the message to digitally sign:  4a9ca4596692e94f9d2912b06a0d007564a22ee750339a6021c2392149b25d6d\n",
      "Enter your private key (hex format) for signing:  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\n"
     ]
    },
    {
     "name": "stdout",
     "output_type": "stream",
     "text": [
      "\n",
      "Digital signature: ecXkCyv3P0kid4EaDBfwZHVXbhBis2+uUqEPwHZHI596MxT/6Xpg0Q/sZqr4khfqu6KCwyPgslvFDUPU7Tksu/6aO67W66pe3hxG9ebuXEVG5wQmDVoP/j3jDa1SxXi9GXYU1wyz8bt/0+jOPmC0YUGXDM64OdZN3VtN1X1RxGZBVHuFxB/xsOc4SPhYede4NaF43tTbruW+tc5NZVxv2AUkCUbV8Jwlw90HkiDqrrTq1zeoL/H4iJWfULMVUhm6n/BFtZY+zLZsyxX20hYwleSsSaiMZv1AsLwIY/EBz7ZfbAT9VaKDiw7Yvz83/Ozi9OoT6BJs+OaG2IQHUllRNw== \n",
      "\n"
     ]
    }
   ],
   "source": [
    "# Block 4: Digital Signature\n",
    "\n",
    "message_to_sign = input('Enter the message to digitally sign: ')\n",
    "pr_key_hex = input('Enter your private key (hex format) for signing: ')\n",
    "\n",
    "# Deserialize the private key from hex\n",
    "private_key = deserialize_private_key_from_hex(pr_key_hex)\n",
    "\n",
    "# Sign the message using the private key\n",
    "signature = sign_message(message_to_sign, private_key)\n",
    "print(f\"\\nDigital signature: {signature} \\n\")\n",
    "\n"
   ]
  },
  {
   "cell_type": "code",
   "execution_count": 59,
   "id": "148b23e5-5160-436f-9d01-2156ca05dd36",
   "metadata": {},
   "outputs": [
    {
     "name": "stdin",
     "output_type": "stream",
     "text": [
      "Enter the signature to verify:  ecXkCyv3P0kid4EaDBfwZHVXbhBis2+uUqEPwHZHI596MxT/6Xpg0Q/sZqr4khfqu6KCwyPgslvFDUPU7Tksu/6aO67W66pe3hxG9ebuXEVG5wQmDVoP/j3jDa1SxXi9GXYU1wyz8bt/0+jOPmC0YUGXDM64OdZN3VtN1X1RxGZBVHuFxB/xsOc4SPhYede4NaF43tTbruW+tc5NZVxv2AUkCUbV8Jwlw90HkiDqrrTq1zeoL/H4iJWfULMVUhm6n/BFtZY+zLZsyxX20hYwleSsSaiMZv1AsLwIY/EBz7ZfbAT9VaKDiw7Yvz83/Ozi9OoT6BJs+OaG2IQHUllRNw==\n"
     ]
    },
    {
     "name": "stdout",
     "output_type": "stream",
     "text": [
      "\n",
      "\n"
     ]
    },
    {
     "name": "stdin",
     "output_type": "stream",
     "text": [
      "Enter the public key (hex format) for verification:  30820122300d06092a864886f70d01010105000382010f003082010a0282010100c271fbcb8f015d61ffef4c7df16c8f0e5e42f946e282ab5ba614d43470d5a2b6b8aedb702ff0a8a09e32323fdb13df2d7f7002a53691c1d0df6b212cb93d2ecb94905484fbc890ab07e806c03d5cd817cb586e94ac2426a841d65aa39ed80972effae61f9236d704df3b909ef7b0620a52554558ce7e11641be8916416e9a7ef3c2b944e8d9b311d69319464695b6b7cb7af5db8ab1a96932105b38404c640499e5e86561fb8f76857c529425d7ff528d1841f4a67fe74bc16bccf23880354de55634d205790a9ef77dfa2613f963bfe262a2d5ff0872d0616ee5a8f5a2c4e1f7764f07ec5e5e0085ea9ecc1b0ae1d4d43ae3eea549b1fc6047e458facb0cb0d0203010001\n"
     ]
    },
    {
     "name": "stdout",
     "output_type": "stream",
     "text": [
      "\n",
      "\n"
     ]
    },
    {
     "name": "stdin",
     "output_type": "stream",
     "text": [
      "Enter the student ID HASH to verify:  4a9ca4596692e94f9d2912b06a0d007564a22ee750339a6021c2392149b25d6d\n"
     ]
    },
    {
     "name": "stdout",
     "output_type": "stream",
     "text": [
      "\n",
      "\n",
      "\n",
      "The signature is valid.\n",
      "\n",
      "Original message: 4a9ca4596692e94f9d2912b06a0d007564a22ee750339a6021c2392149b25d6d\n",
      "\n"
     ]
    }
   ],
   "source": [
    "# Block 5: Signature Verification\n",
    "\n",
    "signature_to_verify = input('Enter the signature to verify: ')\n",
    "print('\\n')\n",
    "pb_key_hex = input('Enter the public key (hex format) for verification: ')\n",
    "print('\\n')\n",
    "# Deserialize the public key from hex\n",
    "public_key = deserialize_public_key_from_hex(pb_key_hex)\n",
    "\n",
    "# Assuming 'message_to_sign' is already defined earlier or received as input\n",
    "message_to_sign = input('Enter the student ID HASH to verify: ')\n",
    "print('\\n')\n",
    "# Verify the signature using the public key\n",
    "is_valid = verify_signature(message_to_sign, signature_to_verify, public_key)\n",
    "\n",
    "if is_valid:\n",
    "    print(\"\\nThe signature is valid.\\n\")\n",
    "    print(f\"Original message: {message_to_sign}\\n\")\n",
    "else:\n",
    "    print(\"\\nThe signature is invalid.\\n\")"
   ]
  },
  {
   "cell_type": "code",
   "execution_count": null,
   "id": "63ef2fbd-becd-466b-9fef-55d33b0bf5a7",
   "metadata": {},
   "outputs": [],
   "source": []
  }
 ],
 "metadata": {
  "kernelspec": {
   "display_name": "Python 3 (ipykernel)",
   "language": "python",
   "name": "python3"
  },
  "language_info": {
   "codemirror_mode": {
    "name": "ipython",
    "version": 3
   },
   "file_extension": ".py",
   "mimetype": "text/x-python",
   "name": "python",
   "nbconvert_exporter": "python",
   "pygments_lexer": "ipython3",
   "version": "3.12.3"
  }
 },
 "nbformat": 4,
 "nbformat_minor": 5
}
